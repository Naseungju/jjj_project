{
 "cells": [
  {
   "cell_type": "code",
   "execution_count": 1,
   "id": "f43b3594",
   "metadata": {
    "collapsed": true
   },
   "outputs": [
    {
     "name": "stdout",
     "output_type": "stream",
     "text": [
      "Requirement already satisfied: easyocr in c:\\users\\playdata\\appdata\\roaming\\python\\python310\\site-packages (1.7.0)\n",
      "Requirement already satisfied: opencv-python-headless in c:\\users\\playdata\\appdata\\roaming\\python\\python310\\site-packages (from easyocr) (4.8.0.76)\n",
      "Requirement already satisfied: ninja in c:\\users\\playdata\\anaconda3\\envs\\ml\\lib\\site-packages (from easyocr) (1.11.1)\n",
      "Requirement already satisfied: pyclipper in c:\\users\\playdata\\anaconda3\\envs\\ml\\lib\\site-packages (from easyocr) (1.3.0.post4)\n",
      "Requirement already satisfied: torchvision>=0.5 in c:\\users\\playdata\\anaconda3\\envs\\ml\\lib\\site-packages (from easyocr) (0.15.2)\n",
      "Requirement already satisfied: scikit-image in c:\\users\\playdata\\appdata\\roaming\\python\\python310\\site-packages (from easyocr) (0.21.0)\n",
      "Requirement already satisfied: scipy in c:\\users\\playdata\\anaconda3\\envs\\ml\\lib\\site-packages (from easyocr) (1.10.1)\n",
      "Requirement already satisfied: python-bidi in c:\\users\\playdata\\anaconda3\\envs\\ml\\lib\\site-packages (from easyocr) (0.4.2)\n",
      "Requirement already satisfied: numpy in c:\\users\\playdata\\anaconda3\\envs\\ml\\lib\\site-packages (from easyocr) (1.24.2)\n",
      "Requirement already satisfied: Pillow in c:\\users\\playdata\\anaconda3\\envs\\ml\\lib\\site-packages (from easyocr) (9.5.0)\n",
      "Requirement already satisfied: Shapely in c:\\users\\playdata\\anaconda3\\envs\\ml\\lib\\site-packages (from easyocr) (2.0.1)\n",
      "Requirement already satisfied: torch in c:\\users\\playdata\\anaconda3\\envs\\ml\\lib\\site-packages (from easyocr) (2.0.1)\n",
      "Requirement already satisfied: PyYAML in c:\\users\\playdata\\anaconda3\\envs\\ml\\lib\\site-packages (from easyocr) (6.0)\n",
      "Requirement already satisfied: requests in c:\\users\\playdata\\anaconda3\\envs\\ml\\lib\\site-packages (from torchvision>=0.5->easyocr) (2.29.0)\n",
      "Requirement already satisfied: jinja2 in c:\\users\\playdata\\anaconda3\\envs\\ml\\lib\\site-packages (from torch->easyocr) (3.1.2)\n",
      "Requirement already satisfied: networkx in c:\\users\\playdata\\anaconda3\\envs\\ml\\lib\\site-packages (from torch->easyocr) (3.1)\n",
      "Requirement already satisfied: typing-extensions in c:\\users\\playdata\\anaconda3\\envs\\ml\\lib\\site-packages (from torch->easyocr) (4.6.3)\n",
      "Requirement already satisfied: filelock in c:\\users\\playdata\\anaconda3\\envs\\ml\\lib\\site-packages (from torch->easyocr) (3.12.0)\n",
      "Requirement already satisfied: sympy in c:\\users\\playdata\\anaconda3\\envs\\ml\\lib\\site-packages (from torch->easyocr) (1.12)\n",
      "Requirement already satisfied: six in c:\\users\\playdata\\anaconda3\\envs\\ml\\lib\\site-packages (from python-bidi->easyocr) (1.16.0)\n",
      "Requirement already satisfied: lazy_loader>=0.2 in c:\\users\\playdata\\appdata\\roaming\\python\\python310\\site-packages (from scikit-image->easyocr) (0.3)\n",
      "Requirement already satisfied: imageio>=2.27 in c:\\users\\playdata\\appdata\\roaming\\python\\python310\\site-packages (from scikit-image->easyocr) (2.31.1)\n",
      "Requirement already satisfied: packaging>=21 in c:\\users\\playdata\\anaconda3\\envs\\ml\\lib\\site-packages (from scikit-image->easyocr) (23.1)\n",
      "Requirement already satisfied: tifffile>=2022.8.12 in c:\\users\\playdata\\anaconda3\\envs\\ml\\lib\\site-packages (from scikit-image->easyocr) (2023.7.18)\n",
      "Requirement already satisfied: PyWavelets>=1.1.1 in c:\\users\\playdata\\anaconda3\\envs\\ml\\lib\\site-packages (from scikit-image->easyocr) (1.4.1)\n",
      "Requirement already satisfied: MarkupSafe>=2.0 in c:\\users\\playdata\\anaconda3\\envs\\ml\\lib\\site-packages (from jinja2->torch->easyocr) (2.1.2)\n",
      "Requirement already satisfied: urllib3<1.27,>=1.21.1 in c:\\users\\playdata\\anaconda3\\envs\\ml\\lib\\site-packages (from requests->torchvision>=0.5->easyocr) (1.26.15)\n",
      "Requirement already satisfied: idna<4,>=2.5 in c:\\users\\playdata\\anaconda3\\envs\\ml\\lib\\site-packages (from requests->torchvision>=0.5->easyocr) (3.4)\n",
      "Requirement already satisfied: charset-normalizer<4,>=2 in c:\\users\\playdata\\anaconda3\\envs\\ml\\lib\\site-packages (from requests->torchvision>=0.5->easyocr) (3.1.0)\n",
      "Requirement already satisfied: certifi>=2017.4.17 in c:\\users\\playdata\\anaconda3\\envs\\ml\\lib\\site-packages (from requests->torchvision>=0.5->easyocr) (2023.7.22)\n",
      "Requirement already satisfied: mpmath>=0.19 in c:\\users\\playdata\\anaconda3\\envs\\ml\\lib\\site-packages (from sympy->torch->easyocr) (1.3.0)\n"
     ]
    }
   ],
   "source": [
    "!pip install easyocr  --user"
   ]
  },
  {
   "cell_type": "code",
   "execution_count": 4,
   "id": "8486c5ad",
   "metadata": {},
   "outputs": [
    {
     "name": "stdout",
     "output_type": "stream",
     "text": [
      "Requirement already satisfied: numpy==1.24.2 in c:\\users\\playdata\\anaconda3\\envs\\ml\\lib\\site-packages (1.24.2)\n"
     ]
    }
   ],
   "source": [
    "!pip install numpy==1.24.2 --user"
   ]
  },
  {
   "cell_type": "markdown",
   "id": "242587a5",
   "metadata": {},
   "source": [
    "## import"
   ]
  },
  {
   "cell_type": "code",
   "execution_count": 5,
   "id": "f064499d",
   "metadata": {},
   "outputs": [],
   "source": [
    "from matplotlib import pyplot as plt\n",
    "from imutils.perspective import four_point_transform\n",
    "from imutils.contours import sort_contours\n",
    "import imutils\n",
    "from easyocr import Reader\n",
    "import cv2\n",
    "import requests\n",
    "import numpy as np\n",
    "from PIL import ImageFont, ImageDraw, Image"
   ]
  },
  {
   "cell_type": "markdown",
   "id": "ff8493bb",
   "metadata": {},
   "source": [
    "### 이미지 확인 function / scan 이미지 변환 function"
   ]
  },
  {
   "cell_type": "code",
   "execution_count": 6,
   "id": "01849238",
   "metadata": {},
   "outputs": [],
   "source": [
    "def plt_imshow(title='image', img=None, figsize=(8 ,5)):\n",
    "    plt.figure(figsize=figsize)\n",
    " \n",
    "    if type(img) == list:\n",
    "        if type(title) == list:\n",
    "            titles = title\n",
    "        else:\n",
    "            titles = []\n",
    " \n",
    "            for i in range(len(img)):\n",
    "                titles.append(title)\n",
    " \n",
    "        for i in range(len(img)):\n",
    "            if len(img[i].shape) <= 2:\n",
    "                rgbImg = cv2.cvtColor(img[i], cv2.COLOR_GRAY2RGB)\n",
    "            else:\n",
    "                rgbImg = cv2.cvtColor(img[i], cv2.COLOR_BGR2RGB)\n",
    " \n",
    "            plt.subplot(1, len(img), i + 1), plt.imshow(rgbImg)\n",
    "            plt.title(titles[i])\n",
    "            plt.xticks([]), plt.yticks([])\n",
    " \n",
    "        plt.show()\n",
    "    else:\n",
    "        if len(img.shape) < 3:\n",
    "            rgbImg = cv2.cvtColor(img, cv2.COLOR_GRAY2RGB)\n",
    "        else:\n",
    "            rgbImg = cv2.cvtColor(img, cv2.COLOR_BGR2RGB)\n",
    " \n",
    "        plt.imshow(rgbImg)\n",
    "        plt.title(title)\n",
    "        plt.xticks([]), plt.yticks([])\n",
    "        plt.show()\n",
    " \n",
    " \n",
    "def make_scan_image(image, width, ksize=(5,5), min_threshold=75, max_threshold=200):\n",
    "  image_list_title = []\n",
    "  image_list = []\n",
    " \n",
    "  image = imutils.resize(image, width=width)\n",
    "  ratio = org_image.shape[1] / float(image.shape[1])\n",
    " \n",
    "  # 이미지를 grayscale로 변환하고 blur를 적용\n",
    "  # 모서리를 찾기위한 이미지 연산\n",
    "  gray = cv2.cvtColor(image, cv2.COLOR_BGR2GRAY)\n",
    "  blurred = cv2.GaussianBlur(gray, ksize, 0)\n",
    "  edged = cv2.Canny(blurred, min_threshold, max_threshold)\n",
    " \n",
    "  image_list_title = ['gray', 'blurred', 'edged']\n",
    "  image_list = [gray, blurred, edged]\n",
    " \n",
    "  # contours를 찾아 크기순으로 정렬\n",
    "  cnts = cv2.findContours(edged.copy(), cv2.RETR_EXTERNAL, cv2.CHAIN_APPROX_SIMPLE)\n",
    "  cnts = imutils.grab_contours(cnts)\n",
    "  cnts = sorted(cnts, key=cv2.contourArea, reverse=True)\n",
    " \n",
    "  findCnt = None\n",
    " \n",
    "  # 정렬된 contours를 반복문으로 수행하며 4개의 꼭지점을 갖는 도형을 검출\n",
    "  for c in cnts:\n",
    "    peri = cv2.arcLength(c, True)\n",
    "    approx = cv2.approxPolyDP(c, 0.02 * peri, True)\n",
    " \n",
    "    # contours가 크기순으로 정렬되어 있기때문에 제일 첫번째 사각형을 영역으로 판단하고 break\n",
    "    if len(approx) == 4:\n",
    "      findCnt = approx\n",
    "      break\n",
    " \n",
    " \n",
    "  # 만약 추출한 윤곽이 없을 경우 오류\n",
    "  if findCnt is None:\n",
    "    raise Exception((\"Could not find outline.\"))\n",
    " \n",
    " \n",
    "  output = image.copy()\n",
    "  cv2.drawContours(output, [findCnt], -1, (0, 255, 0), 2)\n",
    "  \n",
    "  image_list_title.append(\"Outline\")\n",
    "  image_list.append(output)\n",
    " \n",
    "  # 원본 이미지에 찾은 윤곽을 기준으로 이미지를 보정\n",
    "  transform_image = four_point_transform(org_image, findCnt.reshape(4, 2) * ratio)\n",
    " \n",
    "  plt_imshow(image_list_title, image_list)\n",
    "  plt_imshow(\"Transform\", transform_image)\n",
    " \n",
    "  return transform_image"
   ]
  },
  {
   "cell_type": "markdown",
   "id": "f1fe9485",
   "metadata": {},
   "source": [
    "한글 표기 function"
   ]
  },
  {
   "cell_type": "code",
   "execution_count": 7,
   "id": "54828b83",
   "metadata": {},
   "outputs": [],
   "source": [
    "def putText(cv_img, text, x, y, color=(0, 0, 0), font_size=22):\n",
    "  # Colab이 아닌 Local에서 수행 시에는 gulim.ttc 를 사용하면 됩니다.\n",
    "  # font = ImageFont.truetype(\"fonts/gulim.ttc\", font_size)\n",
    "  font = ImageFont.truetype('/usr/share/fonts/truetype/nanum/NanumGothicBold.ttf', font_size)\n",
    "  img = Image.fromarray(cv_img)\n",
    "   \n",
    "  draw = ImageDraw.Draw(img)\n",
    "  draw.text((x, y), text, font=font, fill=color)\n",
    " \n",
    "  cv_img = np.array(img)\n",
    "  \n",
    "  return cv_img"
   ]
  },
  {
   "cell_type": "markdown",
   "id": "b73b62dc",
   "metadata": {},
   "source": [
    "대비 조절 함수"
   ]
  },
  {
   "cell_type": "code",
   "execution_count": 39,
   "id": "8a6cfce8",
   "metadata": {},
   "outputs": [],
   "source": [
    "def change_contrast(img, alpha=0.0):\n",
    "    '''\n",
    "    명암비(contrast)를 변환하는 함수\n",
    "    [parameter]\n",
    "        img: ndarray - 명암비를 조절할 대상 이미지\n",
    "        alpha: float -  대비 조절 비율값. 기본: 0.0(원본) - 양수: 명암비를 높인다. 음수 - 명암비를 낮춘다. \n",
    "    [return]\n",
    "        ndarray - 명암비가 변환된 이미지\n",
    "    '''\n",
    "    return np.clip((1.0 + alpha) * img - 128 * alpha, 0, 255).astype('uint8')\n"
   ]
  },
  {
   "cell_type": "markdown",
   "id": "0dea1122",
   "metadata": {},
   "source": [
    "# Load Image"
   ]
  },
  {
   "cell_type": "code",
   "execution_count": null,
   "id": "be0b41ba",
   "metadata": {},
   "outputs": [],
   "source": [
    "## 0.이미지 불러오기\n",
    "path = r\"C:\\Users\\Playdata\\Desktop\\jjj_project\\tesseract\\images\\test11.jpg\"\n",
    "image = cv2.imread(path)  \n",
    "\n",
    "plt_imshow('image', image)"
   ]
  },
  {
   "cell_type": "code",
   "execution_count": null,
   "id": "7dcf3292",
   "metadata": {
    "collapsed": true
   },
   "outputs": [],
   "source": [
    "image_ = cv2.cvtColor(image.copy(), cv2.COLOR_BGR2GRAY)  # grayscale\n",
    "# image_ = cv2.medianBlur(image_, ksize=3)  # noise 제거\n",
    "image_ = change_contrast(image_, 1)  # 대비 높임\n",
    "\n",
    "plt_imshow('image proprecessing', image_)"
   ]
  },
  {
   "cell_type": "code",
   "execution_count": 47,
   "id": "11326044",
   "metadata": {},
   "outputs": [
    {
     "name": "stderr",
     "output_type": "stream",
     "text": [
      "Neither CUDA nor MPS are available - defaulting to CPU. Note: This module is much faster with a GPU.\n"
     ]
    }
   ],
   "source": [
    "### EasyOCR 초기화 (사용할 언어를 지정)\n",
    "langs = ['ko', 'en']\n",
    "reader = Reader(lang_list=langs)\n",
    "\n",
    "results = reader.readtext(image_)  \n",
    "# 추출 글자에 대해 각 4개의 꼭지점 좌표, 인식 글자, 확률을 리스트로 return"
   ]
  },
  {
   "cell_type": "code",
   "execution_count": 48,
   "id": "a08eac0d",
   "metadata": {},
   "outputs": [
    {
     "data": {
      "text/plain": [
       "[([[323, 201], [391, 201], [391, 215], [323, 215]],\n",
       "  '11nssi-',\n",
       "  0.08492545189415235)]"
      ]
     },
     "execution_count": 48,
     "metadata": {},
     "output_type": "execute_result"
    }
   ],
   "source": [
    "results"
   ]
  },
  {
   "cell_type": "code",
   "execution_count": 37,
   "id": "f924fb85",
   "metadata": {},
   "outputs": [
    {
     "data": {
      "text/plain": [
       "[]"
      ]
     },
     "execution_count": 37,
     "metadata": {},
     "output_type": "execute_result"
    }
   ],
   "source": [
    "# detail=0 : 인식된 글자만 추출 list 형태로 return\n",
    "simple_results = reader.readtext(image, detail = 0)\n",
    "simple_results"
   ]
  },
  {
   "cell_type": "code",
   "execution_count": null,
   "id": "28eb3775",
   "metadata": {},
   "outputs": [],
   "source": []
  },
  {
   "cell_type": "code",
   "execution_count": null,
   "id": "0623a369",
   "metadata": {},
   "outputs": [],
   "source": []
  },
  {
   "cell_type": "markdown",
   "id": "9bf55cd0",
   "metadata": {},
   "source": [
    "### 문제점\n",
    "웹캠 화질이 좋지 않아 ocr 성능이 떨어진다.\n",
    "ip webcam을 연결해서 핸드폰 카메라로 실행"
   ]
  },
  {
   "cell_type": "markdown",
   "id": "aeda194e",
   "metadata": {},
   "source": [
    "## IP webcam 연결"
   ]
  },
  {
   "cell_type": "code",
   "execution_count": 7,
   "id": "bfc342cb",
   "metadata": {},
   "outputs": [],
   "source": [
    "#### 한 장씩 얻어오는 코드 ####\n",
    "import urllib.request\n",
    "import cv2\n",
    "import numpy as np\n",
    "import time\n",
    "\n",
    "# Replace the URL with your own IPwebcam shot.jpg IP:port\n",
    "url='http://172.30.1.40:8080/shot.jpg'\n",
    "\n",
    "while True:\n",
    "    \n",
    "    # Use urllib to get the image and convert into a cv2 usable format\n",
    "    imgResp = urllib.request.urlopen(url)\n",
    "    imgNp = np.array(bytearray(imgResp.read()), dtype=np.uint8)\n",
    "    img = cv2.imdecode(imgNp,-1)\n",
    "    # put the image on screen\n",
    "    cv2.imshow('IPWebcam',img)\n",
    "\n",
    "    #To give the processor some less stress\n",
    "    #time.sleep(0.1)\n",
    "\n",
    "    if cv2.waitKey(1) & 0xFF == ord('q'):\n",
    "        break"
   ]
  },
  {
   "cell_type": "code",
   "execution_count": 3,
   "id": "3744b1cd",
   "metadata": {},
   "outputs": [],
   "source": [
    "#### 영상으로 불러오는 코드 ####\n",
    "import urllib.request\n",
    "import cv2\n",
    "import numpy as np\n",
    "import time\n",
    "\n",
    "ip_address = \"172.30.1.40\"\n",
    "port = \"8080\"\n",
    "\n",
    "url = f\"http://{ip_address}:{port}/video\"\n",
    "\n",
    "cap = cv2.VideoCapture(url)\n",
    "\n",
    "while True:\n",
    "    ret, frame = cap.read()\n",
    "\n",
    "    if not ret:\n",
    "        break\n",
    "\n",
    "    cv2.imshow(\"IP Webcam Video Stream\", frame)\n",
    "\n",
    "    # 'q' 키를 누르면 종료합니다\n",
    "    if cv2.waitKey(1) & 0xFF == ord('q'):\n",
    "        break\n",
    "    time.sleep(0.1)\n",
    "\n",
    "cap.release()\n",
    "cv2.destroyAllWindows()"
   ]
  },
  {
   "cell_type": "code",
   "execution_count": null,
   "id": "25c3dd49",
   "metadata": {},
   "outputs": [],
   "source": []
  }
 ],
 "metadata": {
  "kernelspec": {
   "display_name": "Python 3 (ipykernel)",
   "language": "python",
   "name": "python3"
  },
  "language_info": {
   "codemirror_mode": {
    "name": "ipython",
    "version": 3
   },
   "file_extension": ".py",
   "mimetype": "text/x-python",
   "name": "python",
   "nbconvert_exporter": "python",
   "pygments_lexer": "ipython3",
   "version": "3.10.12"
  }
 },
 "nbformat": 4,
 "nbformat_minor": 5
}
