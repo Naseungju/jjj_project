{
 "cells": [
  {
   "cell_type": "code",
   "execution_count": 8,
   "metadata": {},
   "outputs": [],
   "source": [
    "from paddleocr import PaddleOCR, draw_ocr  # paddleOCR import"
   ]
  },
  {
   "cell_type": "code",
   "execution_count": 2,
   "metadata": {},
   "outputs": [
    {
     "name": "stdout",
     "output_type": "stream",
     "text": [
      "[2023/08/14 11:01:57] ppocr DEBUG: Namespace(help='==SUPPRESS==', use_gpu=False, use_xpu=False, use_npu=False, ir_optim=True, use_tensorrt=False, min_subgraph_size=15, precision='fp32', gpu_mem=500, gpu_id=0, image_dir=None, page_num=0, det_algorithm='DB', det_model_dir='C:\\\\Users\\\\Playdata/.paddleocr/whl\\\\det\\\\ch\\\\ch_PP-OCRv4_det_infer', det_limit_side_len=960, det_limit_type='max', det_box_type='quad', det_db_thresh=0.3, det_db_box_thresh=0.6, det_db_unclip_ratio=1.5, max_batch_size=10, use_dilation=False, det_db_score_mode='fast', det_east_score_thresh=0.8, det_east_cover_thresh=0.1, det_east_nms_thresh=0.2, det_sast_score_thresh=0.5, det_sast_nms_thresh=0.2, det_pse_thresh=0, det_pse_box_thresh=0.85, det_pse_min_area=16, det_pse_scale=1, scales=[8, 16, 32], alpha=1.0, beta=1.0, fourier_degree=5, rec_algorithm='SVTR_LCNet', rec_model_dir='C:\\\\Users\\\\Playdata/.paddleocr/whl\\\\rec\\\\ch\\\\ch_PP-OCRv4_rec_infer', rec_image_inverse=True, rec_image_shape='3, 48, 320', rec_batch_num=6, max_text_length=25, rec_char_dict_path='c:\\\\Users\\\\Playdata\\\\AppData\\\\Local\\\\Programs\\\\Python\\\\Python39\\\\lib\\\\site-packages\\\\paddleocr\\\\ppocr\\\\utils\\\\ppocr_keys_v1.txt', use_space_char=True, vis_font_path='./doc/fonts/simfang.ttf', drop_score=0.5, e2e_algorithm='PGNet', e2e_model_dir=None, e2e_limit_side_len=768, e2e_limit_type='max', e2e_pgnet_score_thresh=0.5, e2e_char_dict_path='./ppocr/utils/ic15_dict.txt', e2e_pgnet_valid_set='totaltext', e2e_pgnet_mode='fast', use_angle_cls=True, cls_model_dir='C:\\\\Users\\\\Playdata/.paddleocr/whl\\\\cls\\\\ch_ppocr_mobile_v2.0_cls_infer', cls_image_shape='3, 48, 192', label_list=['0', '180'], cls_batch_num=6, cls_thresh=0.9, enable_mkldnn=False, cpu_threads=10, use_pdserving=False, warmup=False, sr_model_dir=None, sr_image_shape='3, 32, 128', sr_batch_num=1, draw_img_save_dir='./inference_results', save_crop_res=False, crop_res_save_dir='./output', use_mp=False, total_process_num=1, process_id=0, benchmark=False, save_log_path='./log_output/', show_log=True, use_onnx=False, return_word_box=False, output='./output', table_max_len=488, table_algorithm='TableAttn', table_model_dir=None, merge_no_span_structure=True, table_char_dict_path=None, layout_model_dir=None, layout_dict_path=None, layout_score_threshold=0.5, layout_nms_threshold=0.5, kie_algorithm='LayoutXLM', ser_model_dir=None, re_model_dir=None, use_visual_backbone=True, ser_dict_path='../train_data/XFUND/class_list_xfun.txt', ocr_order_method=None, mode='structure', image_orientation=False, layout=True, table=True, ocr=True, recovery=False, use_pdf2docx_api=False, lang='ch', det=True, rec=True, type='ocr', ocr_version='PP-OCRv4', structure_version='PP-StructureV2')\n"
     ]
    }
   ],
   "source": [
    "# model download, memory load\n",
    "# 한 번만 실행\n",
    "ocr  =  PaddleOCR (use_angle_cls = True)"
   ]
  },
  {
   "cell_type": "code",
   "execution_count": 35,
   "metadata": {},
   "outputs": [
    {
     "name": "stdout",
     "output_type": "stream",
     "text": [
      "[2023/08/14 11:59:52] ppocr DEBUG: dt_boxes num : 1, elapse : 0.7213611602783203\n",
      "[2023/08/14 11:59:52] ppocr DEBUG: cls num  : 1, elapse : 0.014033794403076172\n",
      "[2023/08/14 11:59:52] ppocr DEBUG: rec_res num  : 1, elapse : 0.1816086769104004\n"
     ]
    }
   ],
   "source": [
    "# image 로드\n",
    "img_path = r'C:\\Users\\Playdata\\Desktop\\jjj_project\\tesseract\\images\\JO013.jpg' \n",
    "result = ocr.ocr( img_path ) "
   ]
  },
  {
   "cell_type": "code",
   "execution_count": 36,
   "metadata": {},
   "outputs": [
    {
     "data": {
      "text/plain": [
       "[[[[[2015.0, 1367.0], [2247.0, 1378.0], [2243.0, 1471.0], [2011.0, 1460.0]],\n",
       "   ('J0013', 0.9929569363594055)]]]"
      ]
     },
     "execution_count": 36,
     "metadata": {},
     "output_type": "execute_result"
    }
   ],
   "source": [
    "result  # [[ [[영역 좌표], (찾은 문자, 확률)] ]]"
   ]
  },
  {
   "cell_type": "code",
   "execution_count": 24,
   "metadata": {},
   "outputs": [
    {
     "name": "stdout",
     "output_type": "stream",
     "text": [
      "[[[[2015.0, 1367.0], [2247.0, 1378.0], [2243.0, 1471.0], [2011.0, 1460.0]], ('J0013', 0.9929569363594055)]]\n",
      "====================\n",
      "[[[2015.0, 1367.0], [2247.0, 1378.0], [2243.0, 1471.0], [2011.0, 1460.0]], ('J0013', 0.9929569363594055)]\n"
     ]
    }
   ],
   "source": [
    "for idx in range(len(result)):\n",
    "    res = result[idx]  # 문자 영역을 여러개 찾아도 얘는 하나 !\n",
    "    print(res)\n",
    "    print('='*20)\n",
    "\n",
    "    for line in res:  # 영역 하나씩 출력\n",
    "        print(line)"
   ]
  },
  {
   "cell_type": "code",
   "execution_count": 37,
   "metadata": {},
   "outputs": [],
   "source": [
    "# draw result\n",
    "from PIL import Image\n",
    "result_ = result[0]\n",
    "\n",
    "image = Image.open(img_path).convert('RGB')\n",
    "boxes = [line[0] for line in result_]\n",
    "txts = [line[1][0] for line in result_]\n",
    "scores = [line[1][1] for line in result_]\n",
    "\n",
    "im_show = draw_ocr(image, boxes, txts, scores, font_path = r'C:\\Windows\\Fonts\\arial.ttf')\n",
    "im_show = Image.fromarray(im_show)\n",
    "im_show.save('result.jpg')"
   ]
  },
  {
   "cell_type": "markdown",
   "metadata": {},
   "source": [
    "### 폴더 안의 이미지들 OCR, 리스트에 결과 저장"
   ]
  },
  {
   "cell_type": "code",
   "execution_count": 41,
   "metadata": {},
   "outputs": [
    {
     "name": "stdout",
     "output_type": "stream",
     "text": [
      "download https://paddleocr.bj.bcebos.com/PP-OCRv3/english/en_PP-OCRv3_det_infer.tar to C:\\Users\\Playdata/.paddleocr/whl\\det\\en\\en_PP-OCRv3_det_infer\\en_PP-OCRv3_det_infer.tar\n"
     ]
    },
    {
     "name": "stderr",
     "output_type": "stream",
     "text": [
      "100%|██████████| 4.00M/4.00M [00:13<00:00, 290kiB/s] \n"
     ]
    },
    {
     "name": "stdout",
     "output_type": "stream",
     "text": [
      "download https://paddleocr.bj.bcebos.com/PP-OCRv4/english/en_PP-OCRv4_rec_infer.tar to C:\\Users\\Playdata/.paddleocr/whl\\rec\\en\\en_PP-OCRv4_rec_infer\\en_PP-OCRv4_rec_infer.tar\n"
     ]
    },
    {
     "name": "stderr",
     "output_type": "stream",
     "text": [
      "100%|██████████| 10.2M/10.2M [00:14<00:00, 729kiB/s] "
     ]
    },
    {
     "name": "stdout",
     "output_type": "stream",
     "text": [
      "[2023/08/14 14:29:57] ppocr DEBUG: Namespace(help='==SUPPRESS==', use_gpu=False, use_xpu=False, use_npu=False, ir_optim=True, use_tensorrt=False, min_subgraph_size=15, precision='fp32', gpu_mem=500, gpu_id=0, image_dir=None, page_num=0, det_algorithm='DB', det_model_dir='C:\\\\Users\\\\Playdata/.paddleocr/whl\\\\det\\\\en\\\\en_PP-OCRv3_det_infer', det_limit_side_len=960, det_limit_type='max', det_box_type='quad', det_db_thresh=0.3, det_db_box_thresh=0.6, det_db_unclip_ratio=1.5, max_batch_size=10, use_dilation=False, det_db_score_mode='fast', det_east_score_thresh=0.8, det_east_cover_thresh=0.1, det_east_nms_thresh=0.2, det_sast_score_thresh=0.5, det_sast_nms_thresh=0.2, det_pse_thresh=0, det_pse_box_thresh=0.85, det_pse_min_area=16, det_pse_scale=1, scales=[8, 16, 32], alpha=1.0, beta=1.0, fourier_degree=5, rec_algorithm='SVTR_LCNet', rec_model_dir='C:\\\\Users\\\\Playdata/.paddleocr/whl\\\\rec\\\\en\\\\en_PP-OCRv4_rec_infer', rec_image_inverse=True, rec_image_shape='3, 48, 320', rec_batch_num=6, max_text_length=25, rec_char_dict_path='c:\\\\Users\\\\Playdata\\\\AppData\\\\Local\\\\Programs\\\\Python\\\\Python39\\\\lib\\\\site-packages\\\\paddleocr\\\\ppocr\\\\utils\\\\en_dict.txt', use_space_char=True, vis_font_path='./doc/fonts/simfang.ttf', drop_score=0.5, e2e_algorithm='PGNet', e2e_model_dir=None, e2e_limit_side_len=768, e2e_limit_type='max', e2e_pgnet_score_thresh=0.5, e2e_char_dict_path='./ppocr/utils/ic15_dict.txt', e2e_pgnet_valid_set='totaltext', e2e_pgnet_mode='fast', use_angle_cls=True, cls_model_dir='C:\\\\Users\\\\Playdata/.paddleocr/whl\\\\cls\\\\ch_ppocr_mobile_v2.0_cls_infer', cls_image_shape='3, 48, 192', label_list=['0', '180'], cls_batch_num=6, cls_thresh=0.9, enable_mkldnn=False, cpu_threads=10, use_pdserving=False, warmup=False, sr_model_dir=None, sr_image_shape='3, 32, 128', sr_batch_num=1, draw_img_save_dir='./inference_results', save_crop_res=False, crop_res_save_dir='./output', use_mp=False, total_process_num=1, process_id=0, benchmark=False, save_log_path='./log_output/', show_log=True, use_onnx=False, return_word_box=False, output='./output', table_max_len=488, table_algorithm='TableAttn', table_model_dir=None, merge_no_span_structure=True, table_char_dict_path=None, layout_model_dir=None, layout_dict_path=None, layout_score_threshold=0.5, layout_nms_threshold=0.5, kie_algorithm='LayoutXLM', ser_model_dir=None, re_model_dir=None, use_visual_backbone=True, ser_dict_path='../train_data/XFUND/class_list_xfun.txt', ocr_order_method=None, mode='structure', image_orientation=False, layout=True, table=True, ocr=True, recovery=False, use_pdf2docx_api=False, lang='en', det=True, rec=True, type='ocr', ocr_version='PP-OCRv4', structure_version='PP-StructureV2')\n"
     ]
    },
    {
     "name": "stderr",
     "output_type": "stream",
     "text": [
      "\n"
     ]
    }
   ],
   "source": [
    "import os\n",
    "import pandas as pd\n",
    "from paddleocr import PaddleOCR\n",
    "\n",
    "ocr = PaddleOCR(use_angle_cls=True, lang=\"en\")"
   ]
  },
  {
   "cell_type": "markdown",
   "metadata": {},
   "source": [
    "**d2coding 글씨체 OCR 수행, 결과 저장**"
   ]
  },
  {
   "cell_type": "code",
   "execution_count": null,
   "metadata": {},
   "outputs": [],
   "source": [
    "\n",
    "##### d2coding OCR #####\n",
    "folder_path = r\"C:\\Users\\Playdata\\Desktop\\jjj_project\\tesseract\\images\\d2coding\"  \n",
    "image_extensions = ['.jpg', '.jpeg']  # 이미지 확장자 리스트\n",
    "image_paths = [\n",
    "    os.path.join(folder_path, filename)\n",
    "    for filename in os.listdir(folder_path)\n",
    "    if os.path.splitext(filename)[1].lower() in image_extensions\n",
    "]\n",
    "\n",
    "# 결과를 저장할 리스트\n",
    "d2coding_results = []\n",
    "\n",
    "for img_path in image_paths:\n",
    "    result = ocr.ocr(img_path, cls=True)\n",
    "\n",
    "    d2coding_results.extend(\n",
    "        [\n",
    "            {\n",
    "            \"Image\": os.path.basename(img_path)[:5],\n",
    "            # \"Coordinates\": line[0],\n",
    "            \"Text\": line[1][0],\n",
    "            \"Confidence\": line[1][1],\n",
    "            }\n",
    "            for line in result[0]\n",
    "        ]\n",
    "    )"
   ]
  },
  {
   "cell_type": "code",
   "execution_count": 67,
   "metadata": {},
   "outputs": [
    {
     "name": "stdout",
     "output_type": "stream",
     "text": [
      "   Image   Text  Confidence\n",
      "0  13856  13856    0.999507\n",
      "1  24496  24496    0.999305\n",
      "2  25110  25110    0.999161\n",
      "3  B80QP  B80QP    0.990792\n",
      "4  JO013  J0013    0.995484\n",
      "5  JSOOY  JSOOY    0.991827\n",
      "6  MGJZ2  MGJZ2    0.992302\n",
      "7  MIGJ0  MIGJO    0.992151\n",
      "8  NASJU  NASJU    0.989989\n",
      "9  P968E  P968E    0.995633\n"
     ]
    }
   ],
   "source": [
    "# 결과 저장을 위한 데이터 프레임 생성\n",
    "d2coding_df = pd.DataFrame(d2coding_results)\n",
    "\n",
    "# 결과 확인\n",
    "print(d2coding_df)"
   ]
  },
  {
   "cell_type": "markdown",
   "metadata": {},
   "source": [
    "**궁서체 OCR 실행, 결과 저장**"
   ]
  },
  {
   "cell_type": "code",
   "execution_count": null,
   "metadata": {},
   "outputs": [],
   "source": [
    "##### 궁서체 OCR #####\n",
    "folder_path = r\"C:\\Users\\Playdata\\Desktop\\jjj_project\\tesseract\\images\\gungseo\"  \n",
    "image_extensions = ['.jpg', '.jpeg']  # 이미지 확장자 리스트\n",
    "image_paths = [\n",
    "    os.path.join(folder_path, filename)\n",
    "    for filename in os.listdir(folder_path)\n",
    "    if os.path.splitext(filename)[1].lower() in image_extensions\n",
    "]\n",
    "\n",
    "# 결과를 저장할 리스트\n",
    "gungseo_results = []\n",
    "\n",
    "for img_path in image_paths:\n",
    "    result = ocr.ocr(img_path, cls=True)\n",
    "\n",
    "    gungseo_results.extend(\n",
    "        [\n",
    "            {\n",
    "            \"Image\": os.path.basename(img_path)[:5],\n",
    "            # \"Coordinates\": line[0],\n",
    "            \"Text\": line[1][0],\n",
    "            \"Confidence\": line[1][1],\n",
    "            }\n",
    "            for line in result[0]\n",
    "        ]\n",
    "    )\n",
    "\n",
    "# 결과 저장을 위한 데이터 프레임 생성\n",
    "gungseo_df = pd.DataFrame(gungseo_results)"
   ]
  },
  {
   "cell_type": "code",
   "execution_count": 69,
   "metadata": {},
   "outputs": [
    {
     "name": "stdout",
     "output_type": "stream",
     "text": [
      "   Image   Text  Confidence\n",
      "0  13856  13856    0.999884\n",
      "1  24496  24496    0.999771\n",
      "2  25110  25110    0.999153\n",
      "3  B80QP  B80QP    0.980621\n",
      "4  JO013  JO013    0.898051\n",
      "5  JSOOY  JSOOY    0.997927\n",
      "6  MGJZ2  MGJZ2    0.994650\n",
      "7  MIGJO  MIGJO    0.998052\n",
      "8  NASJU  NASJU    0.996821\n",
      "9  P968E  P968E    0.996760\n"
     ]
    }
   ],
   "source": [
    "\n",
    "# 결과 확인\n",
    "print(gungseo_df)"
   ]
  },
  {
   "cell_type": "markdown",
   "metadata": {},
   "source": [
    "**고딕체 OCR 실행, 결과 저장**"
   ]
  },
  {
   "cell_type": "code",
   "execution_count": null,
   "metadata": {},
   "outputs": [],
   "source": [
    "##### gothic OCR #####\n",
    "folder_path = r\"C:\\Users\\Playdata\\Desktop\\jjj_project\\tesseract\\images\\gothic\"  \n",
    "image_extensions = ['.jpg', '.jpeg']  # 이미지 확장자 리스트\n",
    "image_paths = [\n",
    "    os.path.join(folder_path, filename)\n",
    "    for filename in os.listdir(folder_path)\n",
    "    if os.path.splitext(filename)[1].lower() in image_extensions\n",
    "]\n",
    "\n",
    "# 결과를 저장할 리스트\n",
    "gothic_results = []\n",
    "\n",
    "for img_path in image_paths:\n",
    "    result = ocr.ocr(img_path, cls=True)\n",
    "\n",
    "    gothic_results.extend(\n",
    "        [\n",
    "            {\n",
    "            \"Image\": os.path.basename(img_path)[:5],\n",
    "            # \"Coordinates\": line[0],\n",
    "            \"Text\": line[1][0],\n",
    "            \"Confidence\": line[1][1],\n",
    "            }\n",
    "            for line in result[0]\n",
    "        ]\n",
    "    )\n",
    "\n",
    "# 결과 저장을 위한 데이터 프레임 생성\n",
    "gothic_df = pd.DataFrame(gothic_results)"
   ]
  },
  {
   "cell_type": "code",
   "execution_count": 71,
   "metadata": {},
   "outputs": [
    {
     "name": "stdout",
     "output_type": "stream",
     "text": [
      "   Image   Text  Confidence\n",
      "0  13856  13856    0.999720\n",
      "1  24496  24496    0.999349\n",
      "2  25110  25110    0.999542\n",
      "3  B80QP  B80QP    0.996467\n",
      "4  JO013  JO013    0.995125\n",
      "5  JSOOY  JSOOY    0.996649\n",
      "6  MGJZ2  MGJZ2    0.996638\n",
      "7  MIGJO  MIGJO    0.995651\n",
      "8  NASJU  NASJU    0.992377\n",
      "9  P968E  P968E    0.996603\n"
     ]
    }
   ],
   "source": [
    "\n",
    "# 결과 확인\n",
    "print(gothic_df)"
   ]
  },
  {
   "cell_type": "markdown",
   "metadata": {},
   "source": [
    "**정답률 계산**"
   ]
  },
  {
   "cell_type": "code",
   "execution_count": null,
   "metadata": {},
   "outputs": [],
   "source": [
    "# d2coding_df, gungseo_df, gothic_df"
   ]
  },
  {
   "cell_type": "code",
   "execution_count": 76,
   "metadata": {},
   "outputs": [
    {
     "name": "stdout",
     "output_type": "stream",
     "text": [
      "==== 글씨체 별 정답률 ====\n",
      "d2coding : 80.0%\n",
      "궁서체 : 100.0%\n",
      "고딕체 : 100.0%\n"
     ]
    }
   ],
   "source": [
    "d2_cnt = sum(d2coding_df['Image'] == d2coding_df['Text'])\n",
    "gungseo_cnt = sum(gungseo_df['Image'] == gungseo_df['Text'])\n",
    "gothic_cnt = sum(gothic_df['Image'] == gothic_df['Text'])\n",
    "\n",
    "print('==== 글씨체 별 정답률 ====')\n",
    "print('d2coding :', str((d2_cnt/10)*100)+'%')\n",
    "print('궁서체 :', str((gungseo_cnt/10)*100)+'%')\n",
    "print('고딕체 :', str((gothic_cnt/10)*100)+'%')"
   ]
  },
  {
   "cell_type": "markdown",
   "metadata": {},
   "source": [
    "--> d2coding은 숫자 0과 영어 O가 똑같이 생겨 0과 O를 잘 구분하지 못한다. <br>\n",
    "  현재까지만 봤을 때 궁서와 고딕은 큰 차이가 없으므로, 출석 확인용 코드는 두 글씨체 중 하나로 선택하면 될 것 같다"
   ]
  },
  {
   "cell_type": "code",
   "execution_count": null,
   "metadata": {},
   "outputs": [],
   "source": []
  }
 ],
 "metadata": {
  "kernelspec": {
   "display_name": "Python 3",
   "language": "python",
   "name": "python3"
  },
  "language_info": {
   "codemirror_mode": {
    "name": "ipython",
    "version": 3
   },
   "file_extension": ".py",
   "mimetype": "text/x-python",
   "name": "python",
   "nbconvert_exporter": "python",
   "pygments_lexer": "ipython3",
   "version": "3.9.13"
  },
  "orig_nbformat": 4
 },
 "nbformat": 4,
 "nbformat_minor": 2
}
